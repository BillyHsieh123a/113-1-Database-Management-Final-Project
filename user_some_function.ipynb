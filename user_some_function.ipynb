{
 "cells": [
  {
   "cell_type": "code",
   "execution_count": null,
   "metadata": {},
   "outputs": [],
   "source": [
    "import psycopg2\n",
    "import random\n",
    "import faker\n",
    "import pytz\n",
    "from datetime import datetime, timedelta\n",
    "from pytz import timezone\n",
    "import bcrypt\n",
    "\n",
    "# Connect to the PostgreSQL database\n",
    "conn = psycopg2.connect(\n",
    "    dbname=\"DB_Final_Project\", \n",
    "    user=\"postgres\", \n",
    "    password=\"bear123321a\", \n",
    "    host=\"localhost\"\n",
    ")\n",
    "cur = conn.cursor()"
   ]
  },
  {
   "cell_type": "code",
   "execution_count": null,
   "metadata": {},
   "outputs": [],
   "source": [
    "def user_create_account(user_id, password, user_name, user_description, profile_pic, \n",
    "        profile_background, birthday, email, country, language, fund, \n",
    "        filtering, notification, cookies):\n",
    "\n",
    "    encoded_password = password.encode('utf-8')\n",
    "    hashed_password = bcrypt.hashpw(encoded_password, bcrypt.gensalt())\n",
    "\n",
    "    cur.execute(\n",
    "        \"\"\"\n",
    "        INSERT INTO public.\"user\" \n",
    "        (user_id, password_hashed, user_name, user_description, profile_pic, \n",
    "        profile_background, birthday, email, country, language, fund, \n",
    "        filtering, notification, cookies) \n",
    "        VALUES (%s, %s, %s, %s, %s, %s, %s, %s, %s, %s, %s, %s, %s, %s)\n",
    "        \"\"\",\n",
    "        (\n",
    "            user_id, \n",
    "            hashed_password, \n",
    "            user_name, \n",
    "            user_description, \n",
    "            profile_pic, \n",
    "            profile_background, \n",
    "            birthday, \n",
    "            email, \n",
    "            country, \n",
    "            language, \n",
    "            fund, \n",
    "            filtering, \n",
    "            notification, \n",
    "            cookies\n",
    "        )\n",
    "    )\n",
    "\n",
    "    return"
   ]
  },
  {
   "cell_type": "code",
   "execution_count": null,
   "metadata": {},
   "outputs": [],
   "source": [
    "def user_login(user_id, password):\n",
    "    cur.execute(\n",
    "        \"\"\"\n",
    "        SELECT password_hashed \n",
    "        FROM public.\"user\" \n",
    "        WHERE user_id = %s\n",
    "        \"\"\",\n",
    "        (user_id,)\n",
    "    )\n",
    "    stored_password_hash = cur.fetchone()[0] \n",
    "    encoded_password = password.encode('utf-8')\n",
    "\n",
    "    if bcrypt.checkpw(encoded_password, stored_password_hash):\n",
    "        print(\"Login successful!\")\n",
    "    else:\n",
    "        print(\"Invalid credentials.\")\n",
    "\n",
    "    return"
   ]
  },
  {
   "cell_type": "code",
   "execution_count": null,
   "metadata": {},
   "outputs": [],
   "source": [
    "def user_change_settings():\n",
    "\n",
    "    return"
   ]
  },
  {
   "cell_type": "code",
   "execution_count": null,
   "metadata": {},
   "outputs": [],
   "source": [
    "def user_add_fund():\n",
    "\n",
    "    return"
   ]
  },
  {
   "cell_type": "code",
   "execution_count": null,
   "metadata": {},
   "outputs": [],
   "source": [
    "def user_search_for_games():\n",
    "\n",
    "    return"
   ]
  },
  {
   "cell_type": "code",
   "execution_count": null,
   "metadata": {},
   "outputs": [],
   "source": [
    "def user_buy_items():\n",
    "\n",
    "    return"
   ]
  },
  {
   "cell_type": "code",
   "execution_count": null,
   "metadata": {},
   "outputs": [],
   "source": [
    "def user_uninstall_games():\n",
    "\n",
    "    return"
   ]
  },
  {
   "cell_type": "code",
   "execution_count": null,
   "metadata": {},
   "outputs": [],
   "source": [
    "def user_add_friends():\n",
    "\n",
    "    return"
   ]
  },
  {
   "cell_type": "code",
   "execution_count": null,
   "metadata": {},
   "outputs": [],
   "source": [
    "def user_add_shopping_cart():\n",
    "    \n",
    "    return"
   ]
  },
  {
   "cell_type": "code",
   "execution_count": null,
   "metadata": {},
   "outputs": [],
   "source": [
    "def user_delete_shopping_cart():\n",
    "\n",
    "    return"
   ]
  },
  {
   "cell_type": "code",
   "execution_count": null,
   "metadata": {},
   "outputs": [],
   "source": [
    "def user_review_games():\n",
    "\n",
    "    return"
   ]
  },
  {
   "cell_type": "code",
   "execution_count": null,
   "metadata": {},
   "outputs": [],
   "source": [
    "def user_look_up_for_achievements():\n",
    "\n",
    "    return"
   ]
  }
 ],
 "metadata": {
  "language_info": {
   "name": "python"
  }
 },
 "nbformat": 4,
 "nbformat_minor": 2
}
