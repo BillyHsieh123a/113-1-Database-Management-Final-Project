{
 "cells": [
  {
   "cell_type": "code",
   "execution_count": 2,
   "metadata": {},
   "outputs": [],
   "source": [
    "import psycopg2\n",
    "import random\n",
    "import faker\n",
    "import pytz\n",
    "from datetime import datetime, timedelta\n",
    "from pytz import timezone\n",
    "\n",
    "# Setup Faker for generating mock data\n",
    "fake = faker.Faker()\n",
    "\n",
    "# Connect to the PostgreSQL database\n",
    "conn = psycopg2.connect(\n",
    "    dbname=\"DB_Final_Project\", \n",
    "    user=\"postgres\", \n",
    "    password=\"12345\", \n",
    "    host=\"localhost\"\n",
    ")\n",
    "cur = conn.cursor()"
   ]
  },
  {
   "cell_type": "code",
   "execution_count": null,
   "metadata": {},
   "outputs": [],
   "source": [
    "def adding_games():\n",
    "    # I need the user to insert game_name\n",
    "    # and game description and system_requirements\n",
    "    # and I will insert the SQL based on the user's demand\n",
    "    # and the game_id is serial\n",
    "    return"
   ]
  },
  {
   "cell_type": "code",
   "execution_count": null,
   "metadata": {},
   "outputs": [],
   "source": [
    "def adding_games(game_name, game_description, system_requirements):\n",
    "    import psycopg2\n",
    "    try:\n",
    "        # Connect to the PostgreSQL database\n",
    "        conn = psycopg2.connect(\n",
    "            dbname=\"DB_Final_Project\", \n",
    "            user=\"postgres\", \n",
    "            password=\"12345\", \n",
    "            host=\"localhost\"\n",
    "        )\n",
    "        cur = conn.cursor()\n",
    "\n",
    "        # 將遊戲資訊插入資料庫\n",
    "        cur.execute(\n",
    "            \"\"\"\n",
    "            INSERT INTO public.\"game\" (game_name, game_description, system_requirements)\n",
    "            VALUES (%s, %s, %s)\n",
    "            \"\"\",\n",
    "            (game_name, game_description, system_requirements)\n",
    "        )\n",
    "        # 提交變更\n",
    "        conn.commit()\n",
    "    except Exception as e:\n",
    "        print(f\"An error occurred: {e}\")\n",
    "    finally:\n",
    "        # 關閉游標與連接\n",
    "        if cur:\n",
    "            cur.close()\n",
    "        if conn:\n",
    "            conn.close()\n"
   ]
  }
 ],
 "metadata": {
  "kernelspec": {
   "display_name": "anaconda_py311",
   "language": "python",
   "name": "python3"
  },
  "language_info": {
   "codemirror_mode": {
    "name": "ipython",
    "version": 3
   },
   "file_extension": ".py",
   "mimetype": "text/x-python",
   "name": "python",
   "nbconvert_exporter": "python",
   "pygments_lexer": "ipython3",
   "version": "3.11.7"
  }
 },
 "nbformat": 4,
 "nbformat_minor": 2
}
