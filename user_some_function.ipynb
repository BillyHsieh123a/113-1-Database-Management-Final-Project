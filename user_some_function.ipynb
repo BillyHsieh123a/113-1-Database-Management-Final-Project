{
 "cells": [
  {
   "cell_type": "code",
   "execution_count": null,
   "metadata": {},
   "outputs": [],
   "source": [
    "import psycopg2\n",
    "import random\n",
    "import faker\n",
    "import pytz\n",
    "from datetime import datetime, timedelta\n",
    "from pytz import timezone\n",
    "import bcrypt\n",
    "\n",
    "# Connect to the PostgreSQL database\n",
    "conn = psycopg2.connect(\n",
    "    dbname=\"DB_Final_Project\", \n",
    "    user=\"postgres\", \n",
    "    password=\"bear123321a\", \n",
    "    host=\"localhost\"\n",
    ")\n",
    "cur = conn.cursor()"
   ]
  },
  {
   "cell_type": "code",
   "execution_count": null,
   "metadata": {},
   "outputs": [],
   "source": [
    "def user_create_account(user_id, password, user_name, user_description, profile_pic, \n",
    "        profile_background, birthday, email, country, language, fund, \n",
    "        filtering, notification, cookies):\n",
    "\n",
    "    encoded_password = password.encode('utf-8')\n",
    "    hashed_password = bcrypt.hashpw(encoded_password, bcrypt.gensalt())\n",
    "\n",
    "    cur.execute(\n",
    "        \"\"\"\n",
    "        INSERT INTO public.\"user\" \n",
    "        (user_id, password_hashed, user_name, user_description, profile_pic, \n",
    "        profile_background, birthday, email, country, language, fund, \n",
    "        filtering, notification, cookies) \n",
    "        VALUES (%s, %s, %s, %s, %s, %s, %s, %s, %s, %s, %s, %s, %s, %s)\n",
    "        \"\"\",\n",
    "        (\n",
    "            user_id, \n",
    "            hashed_password, \n",
    "            user_name, \n",
    "            user_description, \n",
    "            profile_pic, \n",
    "            profile_background, \n",
    "            birthday, \n",
    "            email, \n",
    "            country, \n",
    "            language, \n",
    "            fund, \n",
    "            filtering, \n",
    "            notification, \n",
    "            cookies\n",
    "        )\n",
    "    )\n",
    "\n",
    "    conn.commit()\n",
    "    return"
   ]
  },
  {
   "cell_type": "code",
   "execution_count": null,
   "metadata": {},
   "outputs": [],
   "source": [
    "def user_login(user_id, password):\n",
    "    cur.execute(\n",
    "        \"\"\"\n",
    "        SELECT password_hashed \n",
    "        FROM public.\"user\" \n",
    "        WHERE user_id = %s\n",
    "        \"\"\",\n",
    "        (user_id,)\n",
    "    )\n",
    "    conn.commit()\n",
    "    stored_password_hash = cur.fetchone()[0] \n",
    "    encoded_password = password.encode('utf-8')\n",
    "\n",
    "    success = False\n",
    "    if bcrypt.checkpw(encoded_password, stored_password_hash):\n",
    "        success = True\n",
    "\n",
    "    return success"
   ]
  },
  {
   "cell_type": "code",
   "execution_count": null,
   "metadata": {},
   "outputs": [],
   "source": [
    "def user_change_settings():\n",
    "\n",
    "    return"
   ]
  },
  {
   "cell_type": "code",
   "execution_count": null,
   "metadata": {},
   "outputs": [],
   "source": [
    "def user_add_fund(user_id, amount):\n",
    "    cur.execute(\n",
    "        \"\"\"\n",
    "        UPDATE public.\"user\" \n",
    "        SET fund = fund + %s\n",
    "        WHERE user_id = %s FOR UPDATE;\n",
    "        \"\"\",\n",
    "        (amount, user_id,)\n",
    "    )\n",
    "    \n",
    "    conn.commit()\n",
    "    return"
   ]
  },
  {
   "cell_type": "code",
   "execution_count": null,
   "metadata": {},
   "outputs": [],
   "source": [
    "def user_search_for_games(keywords):\n",
    "    cur.execute(\n",
    "        \"\"\"\n",
    "        SELECT password_hashed \n",
    "        FROM public.\"game\" \n",
    "        WHERE game_name LIKE %s \n",
    "        \"\"\",\n",
    "        (f\"%{keywords}%\",)\n",
    "    )\n",
    "    conn.commit()\n",
    "    related_games = cur.fetchall()\n",
    "    \n",
    "    # related_games is a list\n",
    "    return related_games"
   ]
  },
  {
   "cell_type": "code",
   "execution_count": null,
   "metadata": {},
   "outputs": [],
   "source": [
    "def user_buy_items():\n",
    "    # add transaction\n",
    "    \n",
    "    # update fund\n",
    "\n",
    "    \n",
    "\n",
    "    return"
   ]
  },
  {
   "cell_type": "code",
   "execution_count": null,
   "metadata": {},
   "outputs": [],
   "source": [
    "def user_uninstall_games():\n",
    "\n",
    "    return"
   ]
  },
  {
   "cell_type": "code",
   "execution_count": null,
   "metadata": {},
   "outputs": [],
   "source": [
    "def user_add_friends(user_id, friend_id):\n",
    "    cur.execute(\n",
    "        \"\"\"\n",
    "        INSERT INTO public.\"user_friends\" \n",
    "        (user_id, friend_id) \n",
    "        VALUES (%s, %s)\n",
    "        \"\"\",\n",
    "        (user_id, friend_id)\n",
    "    )\n",
    "    cur.execute(\n",
    "        \"\"\"\n",
    "        INSERT INTO public.\"user_friends\" \n",
    "        (user_id, friend_id) \n",
    "        VALUES (%s, %s)\n",
    "        \"\"\",\n",
    "        (friend_id, user_id)\n",
    "    )\n",
    "\n",
    "    conn.commit()\n",
    "    return"
   ]
  },
  {
   "cell_type": "code",
   "execution_count": null,
   "metadata": {},
   "outputs": [],
   "source": [
    "def user_add_shopping_cart(user_id, game_id, item_id):\n",
    "    success = False\n",
    "    try:\n",
    "        cur.execute(\n",
    "            \"\"\"\n",
    "            INSERT INTO public.\"cart\" \n",
    "            (user_id, game_id, item_id) \n",
    "            VALUES (%s, %s, %s)\n",
    "            ON CONFLICT (user_id, game_id, item_id) DO NOTHING\n",
    "            \"\"\",\n",
    "            (user_id, game_id, item_id)\n",
    "        )\n",
    "\n",
    "        conn.commit()\n",
    "        success = True\n",
    "    except Exception as e:\n",
    "        print(f\"An error occurred: {e}\")\n",
    "        conn.commit().rollback()\n",
    "        \n",
    "    return success"
   ]
  },
  {
   "cell_type": "code",
   "execution_count": null,
   "metadata": {},
   "outputs": [],
   "source": [
    "def user_delete_shopping_cart(user_id, game_id, item_id):\n",
    "    cur.execute(\n",
    "        \"\"\"\n",
    "        DELETE FROM public.\"cart\"\n",
    "        WHERE user_id = %s AND game_id = %s AND item_id = %s\n",
    "        \"\"\",\n",
    "        (user_id, game_id, item_id)\n",
    "    )\n",
    "\n",
    "    conn.commit() \n",
    "    return"
   ]
  },
  {
   "cell_type": "code",
   "execution_count": null,
   "metadata": {},
   "outputs": [],
   "source": [
    "def user_review_games(review_id, user_id, game_id, rating, text, review_timestamp):\n",
    "    cur.execute(\n",
    "        \"\"\"\n",
    "        INSERT INTO public.\"game_reviews\" \n",
    "        (review_id, user_id, game_id, rating, text, review_timestamp) \n",
    "        VALUES (%s, %s, %s, %s, %s, %s)\n",
    "        \"\"\",\n",
    "        (review_id, user_id, game_id, rating, text, review_timestamp)\n",
    "    )\n",
    "\n",
    "    conn.commit()\n",
    "    return"
   ]
  },
  {
   "cell_type": "code",
   "execution_count": null,
   "metadata": {},
   "outputs": [],
   "source": [
    "def user_look_up_for_achievements():\n",
    "\n",
    "    return"
   ]
  }
 ],
 "metadata": {
  "language_info": {
   "name": "python"
  }
 },
 "nbformat": 4,
 "nbformat_minor": 2
}
